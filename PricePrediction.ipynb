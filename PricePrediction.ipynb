{
  "nbformat": 4,
  "nbformat_minor": 0,
  "metadata": {
    "colab": {
      "name": "PricePrediction.ipynb",
      "provenance": [],
      "authorship_tag": "ABX9TyNu55iyu6i/GlCkjEVF+dFn",
      "include_colab_link": true
    },
    "kernelspec": {
      "name": "python3",
      "display_name": "Python 3"
    },
    "language_info": {
      "name": "python"
    }
  },
  "cells": [
    {
      "cell_type": "markdown",
      "metadata": {
        "id": "view-in-github",
        "colab_type": "text"
      },
      "source": [
        "<a href=\"https://colab.research.google.com/github/Med-Rokaimi/mytest/blob/main/PricePrediction.ipynb\" target=\"_parent\"><img src=\"https://colab.research.google.com/assets/colab-badge.svg\" alt=\"Open In Colab\"/></a>"
      ]
    },
    {
      "cell_type": "code",
      "execution_count": 2,
      "metadata": {
        "id": "5ypVfyEUTmPp"
      },
      "outputs": [],
      "source": [
        "import pandas as pd"
      ]
    },
    {
      "cell_type": "code",
      "source": [
        "df=pd.read_csv(\"sample_data/housepricedata.csv\")"
      ],
      "metadata": {
        "id": "EBfekgCtT-0z"
      },
      "execution_count": 4,
      "outputs": []
    },
    {
      "cell_type": "code",
      "source": [
        "dataset=df.values"
      ],
      "metadata": {
        "id": "2TBJdaxFU3vh"
      },
      "execution_count": 7,
      "outputs": []
    },
    {
      "cell_type": "code",
      "source": [
        "df.head()"
      ],
      "metadata": {
        "colab": {
          "base_uri": "https://localhost:8080/",
          "height": 270
        },
        "id": "RzcuxaQAVLUm",
        "outputId": "32ce0ca1-f5e3-43da-d090-9587c267a3f3"
      },
      "execution_count": 5,
      "outputs": [
        {
          "output_type": "execute_result",
          "data": {
            "text/plain": [
              "   LotArea  OverallQual  OverallCond  TotalBsmtSF  FullBath  HalfBath  \\\n",
              "0     8450            7            5          856         2         1   \n",
              "1     9600            6            8         1262         2         0   \n",
              "2    11250            7            5          920         2         1   \n",
              "3     9550            7            5          756         1         0   \n",
              "4    14260            8            5         1145         2         1   \n",
              "\n",
              "   BedroomAbvGr  TotRmsAbvGrd  Fireplaces  GarageArea  AboveMedianPrice  \n",
              "0             3             8           0         548                 1  \n",
              "1             3             6           1         460                 1  \n",
              "2             3             6           1         608                 1  \n",
              "3             3             7           1         642                 0  \n",
              "4             4             9           1         836                 1  "
            ],
            "text/html": [
              "\n",
              "  <div id=\"df-d06f51a4-13d5-4029-9f97-a68cf6759bd5\">\n",
              "    <div class=\"colab-df-container\">\n",
              "      <div>\n",
              "<style scoped>\n",
              "    .dataframe tbody tr th:only-of-type {\n",
              "        vertical-align: middle;\n",
              "    }\n",
              "\n",
              "    .dataframe tbody tr th {\n",
              "        vertical-align: top;\n",
              "    }\n",
              "\n",
              "    .dataframe thead th {\n",
              "        text-align: right;\n",
              "    }\n",
              "</style>\n",
              "<table border=\"1\" class=\"dataframe\">\n",
              "  <thead>\n",
              "    <tr style=\"text-align: right;\">\n",
              "      <th></th>\n",
              "      <th>LotArea</th>\n",
              "      <th>OverallQual</th>\n",
              "      <th>OverallCond</th>\n",
              "      <th>TotalBsmtSF</th>\n",
              "      <th>FullBath</th>\n",
              "      <th>HalfBath</th>\n",
              "      <th>BedroomAbvGr</th>\n",
              "      <th>TotRmsAbvGrd</th>\n",
              "      <th>Fireplaces</th>\n",
              "      <th>GarageArea</th>\n",
              "      <th>AboveMedianPrice</th>\n",
              "    </tr>\n",
              "  </thead>\n",
              "  <tbody>\n",
              "    <tr>\n",
              "      <th>0</th>\n",
              "      <td>8450</td>\n",
              "      <td>7</td>\n",
              "      <td>5</td>\n",
              "      <td>856</td>\n",
              "      <td>2</td>\n",
              "      <td>1</td>\n",
              "      <td>3</td>\n",
              "      <td>8</td>\n",
              "      <td>0</td>\n",
              "      <td>548</td>\n",
              "      <td>1</td>\n",
              "    </tr>\n",
              "    <tr>\n",
              "      <th>1</th>\n",
              "      <td>9600</td>\n",
              "      <td>6</td>\n",
              "      <td>8</td>\n",
              "      <td>1262</td>\n",
              "      <td>2</td>\n",
              "      <td>0</td>\n",
              "      <td>3</td>\n",
              "      <td>6</td>\n",
              "      <td>1</td>\n",
              "      <td>460</td>\n",
              "      <td>1</td>\n",
              "    </tr>\n",
              "    <tr>\n",
              "      <th>2</th>\n",
              "      <td>11250</td>\n",
              "      <td>7</td>\n",
              "      <td>5</td>\n",
              "      <td>920</td>\n",
              "      <td>2</td>\n",
              "      <td>1</td>\n",
              "      <td>3</td>\n",
              "      <td>6</td>\n",
              "      <td>1</td>\n",
              "      <td>608</td>\n",
              "      <td>1</td>\n",
              "    </tr>\n",
              "    <tr>\n",
              "      <th>3</th>\n",
              "      <td>9550</td>\n",
              "      <td>7</td>\n",
              "      <td>5</td>\n",
              "      <td>756</td>\n",
              "      <td>1</td>\n",
              "      <td>0</td>\n",
              "      <td>3</td>\n",
              "      <td>7</td>\n",
              "      <td>1</td>\n",
              "      <td>642</td>\n",
              "      <td>0</td>\n",
              "    </tr>\n",
              "    <tr>\n",
              "      <th>4</th>\n",
              "      <td>14260</td>\n",
              "      <td>8</td>\n",
              "      <td>5</td>\n",
              "      <td>1145</td>\n",
              "      <td>2</td>\n",
              "      <td>1</td>\n",
              "      <td>4</td>\n",
              "      <td>9</td>\n",
              "      <td>1</td>\n",
              "      <td>836</td>\n",
              "      <td>1</td>\n",
              "    </tr>\n",
              "  </tbody>\n",
              "</table>\n",
              "</div>\n",
              "      <button class=\"colab-df-convert\" onclick=\"convertToInteractive('df-d06f51a4-13d5-4029-9f97-a68cf6759bd5')\"\n",
              "              title=\"Convert this dataframe to an interactive table.\"\n",
              "              style=\"display:none;\">\n",
              "        \n",
              "  <svg xmlns=\"http://www.w3.org/2000/svg\" height=\"24px\"viewBox=\"0 0 24 24\"\n",
              "       width=\"24px\">\n",
              "    <path d=\"M0 0h24v24H0V0z\" fill=\"none\"/>\n",
              "    <path d=\"M18.56 5.44l.94 2.06.94-2.06 2.06-.94-2.06-.94-.94-2.06-.94 2.06-2.06.94zm-11 1L8.5 8.5l.94-2.06 2.06-.94-2.06-.94L8.5 2.5l-.94 2.06-2.06.94zm10 10l.94 2.06.94-2.06 2.06-.94-2.06-.94-.94-2.06-.94 2.06-2.06.94z\"/><path d=\"M17.41 7.96l-1.37-1.37c-.4-.4-.92-.59-1.43-.59-.52 0-1.04.2-1.43.59L10.3 9.45l-7.72 7.72c-.78.78-.78 2.05 0 2.83L4 21.41c.39.39.9.59 1.41.59.51 0 1.02-.2 1.41-.59l7.78-7.78 2.81-2.81c.8-.78.8-2.07 0-2.86zM5.41 20L4 18.59l7.72-7.72 1.47 1.35L5.41 20z\"/>\n",
              "  </svg>\n",
              "      </button>\n",
              "      \n",
              "  <style>\n",
              "    .colab-df-container {\n",
              "      display:flex;\n",
              "      flex-wrap:wrap;\n",
              "      gap: 12px;\n",
              "    }\n",
              "\n",
              "    .colab-df-convert {\n",
              "      background-color: #E8F0FE;\n",
              "      border: none;\n",
              "      border-radius: 50%;\n",
              "      cursor: pointer;\n",
              "      display: none;\n",
              "      fill: #1967D2;\n",
              "      height: 32px;\n",
              "      padding: 0 0 0 0;\n",
              "      width: 32px;\n",
              "    }\n",
              "\n",
              "    .colab-df-convert:hover {\n",
              "      background-color: #E2EBFA;\n",
              "      box-shadow: 0px 1px 2px rgba(60, 64, 67, 0.3), 0px 1px 3px 1px rgba(60, 64, 67, 0.15);\n",
              "      fill: #174EA6;\n",
              "    }\n",
              "\n",
              "    [theme=dark] .colab-df-convert {\n",
              "      background-color: #3B4455;\n",
              "      fill: #D2E3FC;\n",
              "    }\n",
              "\n",
              "    [theme=dark] .colab-df-convert:hover {\n",
              "      background-color: #434B5C;\n",
              "      box-shadow: 0px 1px 3px 1px rgba(0, 0, 0, 0.15);\n",
              "      filter: drop-shadow(0px 1px 2px rgba(0, 0, 0, 0.3));\n",
              "      fill: #FFFFFF;\n",
              "    }\n",
              "  </style>\n",
              "\n",
              "      <script>\n",
              "        const buttonEl =\n",
              "          document.querySelector('#df-d06f51a4-13d5-4029-9f97-a68cf6759bd5 button.colab-df-convert');\n",
              "        buttonEl.style.display =\n",
              "          google.colab.kernel.accessAllowed ? 'block' : 'none';\n",
              "\n",
              "        async function convertToInteractive(key) {\n",
              "          const element = document.querySelector('#df-d06f51a4-13d5-4029-9f97-a68cf6759bd5');\n",
              "          const dataTable =\n",
              "            await google.colab.kernel.invokeFunction('convertToInteractive',\n",
              "                                                     [key], {});\n",
              "          if (!dataTable) return;\n",
              "\n",
              "          const docLinkHtml = 'Like what you see? Visit the ' +\n",
              "            '<a target=\"_blank\" href=https://colab.research.google.com/notebooks/data_table.ipynb>data table notebook</a>'\n",
              "            + ' to learn more about interactive tables.';\n",
              "          element.innerHTML = '';\n",
              "          dataTable['output_type'] = 'display_data';\n",
              "          await google.colab.output.renderOutput(dataTable, element);\n",
              "          const docLink = document.createElement('div');\n",
              "          docLink.innerHTML = docLinkHtml;\n",
              "          element.appendChild(docLink);\n",
              "        }\n",
              "      </script>\n",
              "    </div>\n",
              "  </div>\n",
              "  "
            ]
          },
          "metadata": {},
          "execution_count": 5
        }
      ]
    },
    {
      "cell_type": "code",
      "source": [
        "dataset = df.values"
      ],
      "metadata": {
        "id": "xu8tEFEWVYMf"
      },
      "execution_count": 8,
      "outputs": []
    },
    {
      "cell_type": "code",
      "source": [
        "X= dataset[:,0:10]"
      ],
      "metadata": {
        "id": "UmSjurkCV44b"
      },
      "execution_count": 9,
      "outputs": []
    },
    {
      "cell_type": "code",
      "source": [
        "X"
      ],
      "metadata": {
        "colab": {
          "base_uri": "https://localhost:8080/"
        },
        "id": "8JUA7ge_WDZ8",
        "outputId": "29b8954a-77c9-45b3-8970-c24c7a11db35"
      },
      "execution_count": 11,
      "outputs": [
        {
          "output_type": "execute_result",
          "data": {
            "text/plain": [
              "array([[ 8450,     7,     5, ...,     8,     0,   548],\n",
              "       [ 9600,     6,     8, ...,     6,     1,   460],\n",
              "       [11250,     7,     5, ...,     6,     1,   608],\n",
              "       ...,\n",
              "       [ 9042,     7,     9, ...,     9,     2,   252],\n",
              "       [ 9717,     5,     6, ...,     5,     0,   240],\n",
              "       [ 9937,     5,     6, ...,     6,     0,   276]])"
            ]
          },
          "metadata": {},
          "execution_count": 11
        }
      ]
    },
    {
      "cell_type": "code",
      "source": [
        "Y=dataset[:,10]"
      ],
      "metadata": {
        "id": "DLAJocH0WGEp"
      },
      "execution_count": 25,
      "outputs": []
    },
    {
      "cell_type": "code",
      "source": [
        "Y"
      ],
      "metadata": {
        "colab": {
          "base_uri": "https://localhost:8080/"
        },
        "id": "e2WfsM2YWLAe",
        "outputId": "49105f42-0b57-4631-8c36-e43a4ec9aa1b"
      },
      "execution_count": 26,
      "outputs": [
        {
          "output_type": "execute_result",
          "data": {
            "text/plain": [
              "array([1, 1, 1, ..., 1, 0, 0])"
            ]
          },
          "metadata": {},
          "execution_count": 26
        }
      ]
    },
    {
      "cell_type": "code",
      "source": [
        "from sklearn import preprocessing"
      ],
      "metadata": {
        "id": "kxcP9qc4YIpp"
      },
      "execution_count": 12,
      "outputs": []
    },
    {
      "cell_type": "code",
      "source": [
        "min_max_scaler = preprocessing.MinMaxScaler()\n",
        "X_scale = min_max_scaler.fit_transform(X)\n",
        "X_scale"
      ],
      "metadata": {
        "colab": {
          "base_uri": "https://localhost:8080/"
        },
        "id": "JIV7fbNOYPmk",
        "outputId": "de3858ae-3075-4d8d-cc07-ae2f52c6899f"
      },
      "execution_count": 40,
      "outputs": [
        {
          "output_type": "execute_result",
          "data": {
            "text/plain": [
              "array([[0.0334198 , 0.66666667, 0.5       , ..., 0.5       , 0.        ,\n",
              "        0.3864598 ],\n",
              "       [0.03879502, 0.55555556, 0.875     , ..., 0.33333333, 0.33333333,\n",
              "        0.32440056],\n",
              "       [0.04650728, 0.66666667, 0.5       , ..., 0.33333333, 0.33333333,\n",
              "        0.42877292],\n",
              "       ...,\n",
              "       [0.03618687, 0.66666667, 1.        , ..., 0.58333333, 0.66666667,\n",
              "        0.17771509],\n",
              "       [0.03934189, 0.44444444, 0.625     , ..., 0.25      , 0.        ,\n",
              "        0.16925247],\n",
              "       [0.04037019, 0.44444444, 0.625     , ..., 0.33333333, 0.        ,\n",
              "        0.19464034]])"
            ]
          },
          "metadata": {},
          "execution_count": 40
        }
      ]
    },
    {
      "cell_type": "code",
      "source": [
        "from sklearn.model_selection import train_test_split"
      ],
      "metadata": {
        "id": "4YNfSxieY8Ho"
      },
      "execution_count": 12,
      "outputs": []
    },
    {
      "cell_type": "code",
      "source": [
        "Y"
      ],
      "metadata": {
        "colab": {
          "base_uri": "https://localhost:8080/"
        },
        "id": "ET39-0k4ZxoW",
        "outputId": "5f81d95e-f2d7-4ad1-c6e5-0255cd418287"
      },
      "execution_count": 27,
      "outputs": [
        {
          "output_type": "execute_result",
          "data": {
            "text/plain": [
              "array([1, 1, 1, ..., 1, 0, 0])"
            ]
          },
          "metadata": {},
          "execution_count": 27
        }
      ]
    },
    {
      "cell_type": "code",
      "source": [
        "X_train, X_test, Y_train , Y_test = train_test_split(X_scale, Y, test_size=0.3)\n",
        "X_train"
      ],
      "metadata": {
        "colab": {
          "base_uri": "https://localhost:8080/"
        },
        "id": "PcbXHtyhcBti",
        "outputId": "540aeb9e-b767-419e-84c9-b2a46613ae53"
      },
      "execution_count": 41,
      "outputs": [
        {
          "output_type": "execute_result",
          "data": {
            "text/plain": [
              "array([[0.04531071, 0.77777778, 0.5       , ..., 0.41666667, 0.33333333,\n",
              "        0.43723554],\n",
              "       [0.02708173, 0.44444444, 0.5       , ..., 0.25      , 0.        ,\n",
              "        0.27080395],\n",
              "       [0.06754072, 0.44444444, 0.5       , ..., 0.25      , 0.66666667,\n",
              "        0.26445698],\n",
              "       ...,\n",
              "       [0.04650728, 0.55555556, 0.625     , ..., 0.33333333, 0.33333333,\n",
              "        0.38504937],\n",
              "       [0.03714973, 0.55555556, 0.625     , ..., 0.33333333, 0.        ,\n",
              "        0.28208745],\n",
              "       [0.02897941, 0.66666667, 0.5       , ..., 0.33333333, 0.        ,\n",
              "        0.        ]])"
            ]
          },
          "metadata": {},
          "execution_count": 41
        }
      ]
    },
    {
      "cell_type": "code",
      "source": [
        "from keras import Sequential\n",
        "from keras.layers import Dense"
      ],
      "metadata": {
        "id": "fiVMfCL-duhM"
      },
      "execution_count": 30,
      "outputs": []
    },
    {
      "cell_type": "code",
      "source": [
        "model=Sequential([\n",
        "                  Dense(32,activation='relu', input_shape=(10,)),\n",
        "                  Dense(32, activation='relu'),\n",
        "                  Dense(1, activation='sigmoid'),\n",
        "])"
      ],
      "metadata": {
        "id": "Pgw6cGOid-s0"
      },
      "execution_count": 42,
      "outputs": []
    },
    {
      "cell_type": "code",
      "source": [
        "model.compile(optimizer='sgd', loss='binary_crossentropy', metrics=['accuracy'])"
      ],
      "metadata": {
        "id": "FHxe6TvbgHEl"
      },
      "execution_count": 45,
      "outputs": []
    },
    {
      "cell_type": "code",
      "source": [
        "hist=model.fit(X_train, Y_train, batch_size=32, epochs=100, validation_data=(X_test, Y_test))"
      ],
      "metadata": {
        "colab": {
          "base_uri": "https://localhost:8080/"
        },
        "id": "RVP6bmtJgou4",
        "outputId": "f534d7fc-8d94-4f9d-f505-c11c1b9fe8ca"
      },
      "execution_count": 52,
      "outputs": [
        {
          "output_type": "stream",
          "name": "stdout",
          "text": [
            "Epoch 1/100\n",
            "32/32 [==============================] - 0s 14ms/step - loss: 0.2756 - accuracy: 0.8875 - val_loss: 0.3108 - val_accuracy: 0.8790\n",
            "Epoch 2/100\n",
            "32/32 [==============================] - 0s 8ms/step - loss: 0.2742 - accuracy: 0.8865 - val_loss: 0.3086 - val_accuracy: 0.8836\n",
            "Epoch 3/100\n",
            "32/32 [==============================] - 0s 13ms/step - loss: 0.2739 - accuracy: 0.8845 - val_loss: 0.3056 - val_accuracy: 0.8836\n",
            "Epoch 4/100\n",
            "32/32 [==============================] - 0s 7ms/step - loss: 0.2730 - accuracy: 0.8845 - val_loss: 0.3086 - val_accuracy: 0.8836\n",
            "Epoch 5/100\n",
            "32/32 [==============================] - 0s 10ms/step - loss: 0.2719 - accuracy: 0.8836 - val_loss: 0.3044 - val_accuracy: 0.8836\n",
            "Epoch 6/100\n",
            "32/32 [==============================] - 0s 8ms/step - loss: 0.2720 - accuracy: 0.8865 - val_loss: 0.3055 - val_accuracy: 0.8858\n",
            "Epoch 7/100\n",
            "32/32 [==============================] - 0s 6ms/step - loss: 0.2704 - accuracy: 0.8836 - val_loss: 0.3079 - val_accuracy: 0.8836\n",
            "Epoch 8/100\n",
            "32/32 [==============================] - 0s 8ms/step - loss: 0.2700 - accuracy: 0.8855 - val_loss: 0.3083 - val_accuracy: 0.8813\n",
            "Epoch 9/100\n",
            "32/32 [==============================] - 0s 7ms/step - loss: 0.2689 - accuracy: 0.8826 - val_loss: 0.3032 - val_accuracy: 0.8836\n",
            "Epoch 10/100\n",
            "32/32 [==============================] - 0s 7ms/step - loss: 0.2682 - accuracy: 0.8845 - val_loss: 0.3041 - val_accuracy: 0.8858\n",
            "Epoch 11/100\n",
            "32/32 [==============================] - 0s 9ms/step - loss: 0.2673 - accuracy: 0.8845 - val_loss: 0.3095 - val_accuracy: 0.8813\n",
            "Epoch 12/100\n",
            "32/32 [==============================] - 0s 13ms/step - loss: 0.2671 - accuracy: 0.8894 - val_loss: 0.3032 - val_accuracy: 0.8858\n",
            "Epoch 13/100\n",
            "32/32 [==============================] - 0s 9ms/step - loss: 0.2664 - accuracy: 0.8845 - val_loss: 0.3036 - val_accuracy: 0.8858\n",
            "Epoch 14/100\n",
            "32/32 [==============================] - 0s 5ms/step - loss: 0.2655 - accuracy: 0.8845 - val_loss: 0.3069 - val_accuracy: 0.8836\n",
            "Epoch 15/100\n",
            "32/32 [==============================] - 0s 3ms/step - loss: 0.2647 - accuracy: 0.8865 - val_loss: 0.3013 - val_accuracy: 0.8881\n",
            "Epoch 16/100\n",
            "32/32 [==============================] - 0s 3ms/step - loss: 0.2637 - accuracy: 0.8953 - val_loss: 0.3088 - val_accuracy: 0.8858\n",
            "Epoch 17/100\n",
            "32/32 [==============================] - 0s 3ms/step - loss: 0.2641 - accuracy: 0.8855 - val_loss: 0.3048 - val_accuracy: 0.8836\n",
            "Epoch 18/100\n",
            "32/32 [==============================] - 0s 3ms/step - loss: 0.2637 - accuracy: 0.8894 - val_loss: 0.3024 - val_accuracy: 0.8881\n",
            "Epoch 19/100\n",
            "32/32 [==============================] - 0s 3ms/step - loss: 0.2635 - accuracy: 0.8875 - val_loss: 0.3013 - val_accuracy: 0.8881\n",
            "Epoch 20/100\n",
            "32/32 [==============================] - 0s 3ms/step - loss: 0.2628 - accuracy: 0.8875 - val_loss: 0.3017 - val_accuracy: 0.8881\n",
            "Epoch 21/100\n",
            "32/32 [==============================] - 0s 3ms/step - loss: 0.2621 - accuracy: 0.8914 - val_loss: 0.3034 - val_accuracy: 0.8858\n",
            "Epoch 22/100\n",
            "32/32 [==============================] - 0s 3ms/step - loss: 0.2603 - accuracy: 0.8914 - val_loss: 0.3033 - val_accuracy: 0.8858\n",
            "Epoch 23/100\n",
            "32/32 [==============================] - 0s 3ms/step - loss: 0.2605 - accuracy: 0.8904 - val_loss: 0.3016 - val_accuracy: 0.8858\n",
            "Epoch 24/100\n",
            "32/32 [==============================] - 0s 3ms/step - loss: 0.2592 - accuracy: 0.8933 - val_loss: 0.3056 - val_accuracy: 0.8904\n",
            "Epoch 25/100\n",
            "32/32 [==============================] - 0s 3ms/step - loss: 0.2596 - accuracy: 0.8894 - val_loss: 0.3005 - val_accuracy: 0.8881\n",
            "Epoch 26/100\n",
            "32/32 [==============================] - 0s 3ms/step - loss: 0.2589 - accuracy: 0.8904 - val_loss: 0.3048 - val_accuracy: 0.8904\n",
            "Epoch 27/100\n",
            "32/32 [==============================] - 0s 3ms/step - loss: 0.2591 - accuracy: 0.8914 - val_loss: 0.3041 - val_accuracy: 0.8904\n",
            "Epoch 28/100\n",
            "32/32 [==============================] - 0s 3ms/step - loss: 0.2581 - accuracy: 0.8914 - val_loss: 0.2964 - val_accuracy: 0.8904\n",
            "Epoch 29/100\n",
            "32/32 [==============================] - 0s 3ms/step - loss: 0.2580 - accuracy: 0.8894 - val_loss: 0.2998 - val_accuracy: 0.8904\n",
            "Epoch 30/100\n",
            "32/32 [==============================] - 0s 3ms/step - loss: 0.2576 - accuracy: 0.8885 - val_loss: 0.2984 - val_accuracy: 0.8904\n",
            "Epoch 31/100\n",
            "32/32 [==============================] - 0s 3ms/step - loss: 0.2569 - accuracy: 0.8924 - val_loss: 0.3018 - val_accuracy: 0.8904\n",
            "Epoch 32/100\n",
            "32/32 [==============================] - 0s 3ms/step - loss: 0.2550 - accuracy: 0.8914 - val_loss: 0.2958 - val_accuracy: 0.8881\n",
            "Epoch 33/100\n",
            "32/32 [==============================] - 0s 3ms/step - loss: 0.2559 - accuracy: 0.8924 - val_loss: 0.2969 - val_accuracy: 0.8904\n",
            "Epoch 34/100\n",
            "32/32 [==============================] - 0s 3ms/step - loss: 0.2551 - accuracy: 0.8885 - val_loss: 0.2962 - val_accuracy: 0.8904\n",
            "Epoch 35/100\n",
            "32/32 [==============================] - 0s 3ms/step - loss: 0.2547 - accuracy: 0.8943 - val_loss: 0.2995 - val_accuracy: 0.8904\n",
            "Epoch 36/100\n",
            "32/32 [==============================] - 0s 3ms/step - loss: 0.2543 - accuracy: 0.8924 - val_loss: 0.2973 - val_accuracy: 0.8904\n",
            "Epoch 37/100\n",
            "32/32 [==============================] - 0s 3ms/step - loss: 0.2544 - accuracy: 0.8894 - val_loss: 0.2962 - val_accuracy: 0.8904\n",
            "Epoch 38/100\n",
            "32/32 [==============================] - 0s 3ms/step - loss: 0.2538 - accuracy: 0.8933 - val_loss: 0.2989 - val_accuracy: 0.8904\n",
            "Epoch 39/100\n",
            "32/32 [==============================] - 0s 3ms/step - loss: 0.2536 - accuracy: 0.8933 - val_loss: 0.2970 - val_accuracy: 0.8904\n",
            "Epoch 40/100\n",
            "32/32 [==============================] - 0s 3ms/step - loss: 0.2533 - accuracy: 0.8933 - val_loss: 0.3001 - val_accuracy: 0.8881\n",
            "Epoch 41/100\n",
            "32/32 [==============================] - 0s 4ms/step - loss: 0.2530 - accuracy: 0.8924 - val_loss: 0.2975 - val_accuracy: 0.8904\n",
            "Epoch 42/100\n",
            "32/32 [==============================] - 0s 3ms/step - loss: 0.2515 - accuracy: 0.8933 - val_loss: 0.2951 - val_accuracy: 0.8927\n",
            "Epoch 43/100\n",
            "32/32 [==============================] - 0s 3ms/step - loss: 0.2521 - accuracy: 0.8933 - val_loss: 0.2958 - val_accuracy: 0.8904\n",
            "Epoch 44/100\n",
            "32/32 [==============================] - 0s 3ms/step - loss: 0.2516 - accuracy: 0.8914 - val_loss: 0.2992 - val_accuracy: 0.8881\n",
            "Epoch 45/100\n",
            "32/32 [==============================] - 0s 3ms/step - loss: 0.2514 - accuracy: 0.8894 - val_loss: 0.2993 - val_accuracy: 0.8881\n",
            "Epoch 46/100\n",
            "32/32 [==============================] - 0s 3ms/step - loss: 0.2510 - accuracy: 0.8943 - val_loss: 0.2987 - val_accuracy: 0.8881\n",
            "Epoch 47/100\n",
            "32/32 [==============================] - 0s 3ms/step - loss: 0.2507 - accuracy: 0.8963 - val_loss: 0.3007 - val_accuracy: 0.8858\n",
            "Epoch 48/100\n",
            "32/32 [==============================] - 0s 3ms/step - loss: 0.2503 - accuracy: 0.8953 - val_loss: 0.2966 - val_accuracy: 0.8881\n",
            "Epoch 49/100\n",
            "32/32 [==============================] - 0s 3ms/step - loss: 0.2498 - accuracy: 0.8943 - val_loss: 0.2995 - val_accuracy: 0.8881\n",
            "Epoch 50/100\n",
            "32/32 [==============================] - 0s 3ms/step - loss: 0.2495 - accuracy: 0.8914 - val_loss: 0.2972 - val_accuracy: 0.8881\n",
            "Epoch 51/100\n",
            "32/32 [==============================] - 0s 3ms/step - loss: 0.2499 - accuracy: 0.8963 - val_loss: 0.2977 - val_accuracy: 0.8881\n",
            "Epoch 52/100\n",
            "32/32 [==============================] - 0s 3ms/step - loss: 0.2481 - accuracy: 0.8943 - val_loss: 0.2939 - val_accuracy: 0.8927\n",
            "Epoch 53/100\n",
            "32/32 [==============================] - 0s 3ms/step - loss: 0.2489 - accuracy: 0.8963 - val_loss: 0.2973 - val_accuracy: 0.8881\n",
            "Epoch 54/100\n",
            "32/32 [==============================] - 0s 3ms/step - loss: 0.2484 - accuracy: 0.8924 - val_loss: 0.2997 - val_accuracy: 0.8881\n",
            "Epoch 55/100\n",
            "32/32 [==============================] - 0s 3ms/step - loss: 0.2490 - accuracy: 0.8933 - val_loss: 0.3003 - val_accuracy: 0.8881\n",
            "Epoch 56/100\n",
            "32/32 [==============================] - 0s 3ms/step - loss: 0.2480 - accuracy: 0.8933 - val_loss: 0.2972 - val_accuracy: 0.8881\n",
            "Epoch 57/100\n",
            "32/32 [==============================] - 0s 3ms/step - loss: 0.2476 - accuracy: 0.8963 - val_loss: 0.2986 - val_accuracy: 0.8858\n",
            "Epoch 58/100\n",
            "32/32 [==============================] - 0s 3ms/step - loss: 0.2472 - accuracy: 0.8943 - val_loss: 0.2987 - val_accuracy: 0.8858\n",
            "Epoch 59/100\n",
            "32/32 [==============================] - 0s 3ms/step - loss: 0.2463 - accuracy: 0.8982 - val_loss: 0.2958 - val_accuracy: 0.8881\n",
            "Epoch 60/100\n",
            "32/32 [==============================] - 0s 3ms/step - loss: 0.2470 - accuracy: 0.8982 - val_loss: 0.2944 - val_accuracy: 0.8881\n",
            "Epoch 61/100\n",
            "32/32 [==============================] - 0s 3ms/step - loss: 0.2475 - accuracy: 0.8933 - val_loss: 0.2949 - val_accuracy: 0.8881\n",
            "Epoch 62/100\n",
            "32/32 [==============================] - 0s 3ms/step - loss: 0.2463 - accuracy: 0.8963 - val_loss: 0.3002 - val_accuracy: 0.8904\n",
            "Epoch 63/100\n",
            "32/32 [==============================] - 0s 3ms/step - loss: 0.2452 - accuracy: 0.8973 - val_loss: 0.2949 - val_accuracy: 0.8881\n",
            "Epoch 64/100\n",
            "32/32 [==============================] - 0s 3ms/step - loss: 0.2455 - accuracy: 0.8963 - val_loss: 0.3004 - val_accuracy: 0.8904\n",
            "Epoch 65/100\n",
            "32/32 [==============================] - 0s 3ms/step - loss: 0.2457 - accuracy: 0.8973 - val_loss: 0.3025 - val_accuracy: 0.8858\n",
            "Epoch 66/100\n",
            "32/32 [==============================] - 0s 3ms/step - loss: 0.2456 - accuracy: 0.8973 - val_loss: 0.2985 - val_accuracy: 0.8904\n",
            "Epoch 67/100\n",
            "32/32 [==============================] - 0s 3ms/step - loss: 0.2442 - accuracy: 0.8992 - val_loss: 0.2925 - val_accuracy: 0.8881\n",
            "Epoch 68/100\n",
            "32/32 [==============================] - 0s 3ms/step - loss: 0.2458 - accuracy: 0.8963 - val_loss: 0.2990 - val_accuracy: 0.8904\n",
            "Epoch 69/100\n",
            "32/32 [==============================] - 0s 4ms/step - loss: 0.2438 - accuracy: 0.8953 - val_loss: 0.2929 - val_accuracy: 0.8881\n",
            "Epoch 70/100\n",
            "32/32 [==============================] - 0s 3ms/step - loss: 0.2442 - accuracy: 0.8992 - val_loss: 0.3012 - val_accuracy: 0.8858\n",
            "Epoch 71/100\n",
            "32/32 [==============================] - 0s 3ms/step - loss: 0.2449 - accuracy: 0.8982 - val_loss: 0.3041 - val_accuracy: 0.8858\n",
            "Epoch 72/100\n",
            "32/32 [==============================] - 0s 3ms/step - loss: 0.2436 - accuracy: 0.8963 - val_loss: 0.2931 - val_accuracy: 0.8881\n",
            "Epoch 73/100\n",
            "32/32 [==============================] - 0s 3ms/step - loss: 0.2428 - accuracy: 0.8953 - val_loss: 0.3010 - val_accuracy: 0.8858\n",
            "Epoch 74/100\n",
            "32/32 [==============================] - 0s 3ms/step - loss: 0.2431 - accuracy: 0.9012 - val_loss: 0.2964 - val_accuracy: 0.8904\n",
            "Epoch 75/100\n",
            "32/32 [==============================] - 0s 3ms/step - loss: 0.2433 - accuracy: 0.8982 - val_loss: 0.2950 - val_accuracy: 0.8881\n",
            "Epoch 76/100\n",
            "32/32 [==============================] - 0s 3ms/step - loss: 0.2429 - accuracy: 0.8963 - val_loss: 0.2968 - val_accuracy: 0.8904\n",
            "Epoch 77/100\n",
            "32/32 [==============================] - 0s 3ms/step - loss: 0.2423 - accuracy: 0.8982 - val_loss: 0.2986 - val_accuracy: 0.8904\n",
            "Epoch 78/100\n",
            "32/32 [==============================] - 0s 3ms/step - loss: 0.2424 - accuracy: 0.8963 - val_loss: 0.2930 - val_accuracy: 0.8881\n",
            "Epoch 79/100\n",
            "32/32 [==============================] - 0s 3ms/step - loss: 0.2421 - accuracy: 0.8973 - val_loss: 0.3003 - val_accuracy: 0.8836\n",
            "Epoch 80/100\n",
            "32/32 [==============================] - 0s 3ms/step - loss: 0.2419 - accuracy: 0.9002 - val_loss: 0.2954 - val_accuracy: 0.8927\n",
            "Epoch 81/100\n",
            "32/32 [==============================] - 0s 3ms/step - loss: 0.2414 - accuracy: 0.9002 - val_loss: 0.2967 - val_accuracy: 0.8904\n",
            "Epoch 82/100\n",
            "32/32 [==============================] - 0s 5ms/step - loss: 0.2414 - accuracy: 0.9012 - val_loss: 0.2945 - val_accuracy: 0.8904\n",
            "Epoch 83/100\n",
            "32/32 [==============================] - 0s 3ms/step - loss: 0.2418 - accuracy: 0.8953 - val_loss: 0.2979 - val_accuracy: 0.8904\n",
            "Epoch 84/100\n",
            "32/32 [==============================] - 0s 3ms/step - loss: 0.2414 - accuracy: 0.8982 - val_loss: 0.2943 - val_accuracy: 0.8904\n",
            "Epoch 85/100\n",
            "32/32 [==============================] - 0s 3ms/step - loss: 0.2406 - accuracy: 0.8992 - val_loss: 0.2956 - val_accuracy: 0.8904\n",
            "Epoch 86/100\n",
            "32/32 [==============================] - 0s 3ms/step - loss: 0.2406 - accuracy: 0.9002 - val_loss: 0.2958 - val_accuracy: 0.8904\n",
            "Epoch 87/100\n",
            "32/32 [==============================] - 0s 3ms/step - loss: 0.2406 - accuracy: 0.9002 - val_loss: 0.2941 - val_accuracy: 0.8927\n",
            "Epoch 88/100\n",
            "32/32 [==============================] - 0s 4ms/step - loss: 0.2407 - accuracy: 0.8973 - val_loss: 0.2943 - val_accuracy: 0.8950\n",
            "Epoch 89/100\n",
            "32/32 [==============================] - 0s 3ms/step - loss: 0.2403 - accuracy: 0.8963 - val_loss: 0.2944 - val_accuracy: 0.8950\n",
            "Epoch 90/100\n",
            "32/32 [==============================] - 0s 3ms/step - loss: 0.2395 - accuracy: 0.9022 - val_loss: 0.2925 - val_accuracy: 0.8881\n",
            "Epoch 91/100\n",
            "32/32 [==============================] - 0s 3ms/step - loss: 0.2391 - accuracy: 0.8982 - val_loss: 0.2919 - val_accuracy: 0.8858\n",
            "Epoch 92/100\n",
            "32/32 [==============================] - 0s 3ms/step - loss: 0.2404 - accuracy: 0.9002 - val_loss: 0.2971 - val_accuracy: 0.8904\n",
            "Epoch 93/100\n",
            "32/32 [==============================] - 0s 3ms/step - loss: 0.2392 - accuracy: 0.8982 - val_loss: 0.2930 - val_accuracy: 0.8904\n",
            "Epoch 94/100\n",
            "32/32 [==============================] - 0s 3ms/step - loss: 0.2393 - accuracy: 0.8963 - val_loss: 0.2960 - val_accuracy: 0.8904\n",
            "Epoch 95/100\n",
            "32/32 [==============================] - 0s 3ms/step - loss: 0.2390 - accuracy: 0.8982 - val_loss: 0.2929 - val_accuracy: 0.8904\n",
            "Epoch 96/100\n",
            "32/32 [==============================] - 0s 3ms/step - loss: 0.2388 - accuracy: 0.8933 - val_loss: 0.2944 - val_accuracy: 0.8950\n",
            "Epoch 97/100\n",
            "32/32 [==============================] - 0s 3ms/step - loss: 0.2390 - accuracy: 0.8963 - val_loss: 0.2980 - val_accuracy: 0.8881\n",
            "Epoch 98/100\n",
            "32/32 [==============================] - 0s 4ms/step - loss: 0.2387 - accuracy: 0.8992 - val_loss: 0.3006 - val_accuracy: 0.8881\n",
            "Epoch 99/100\n",
            "32/32 [==============================] - 0s 4ms/step - loss: 0.2399 - accuracy: 0.8982 - val_loss: 0.2945 - val_accuracy: 0.8927\n",
            "Epoch 100/100\n",
            "32/32 [==============================] - 0s 3ms/step - loss: 0.2385 - accuracy: 0.8943 - val_loss: 0.2976 - val_accuracy: 0.8881\n"
          ]
        }
      ]
    },
    {
      "cell_type": "code",
      "source": [
        "model.evaluate(X_test, Y_test)[1]"
      ],
      "metadata": {
        "colab": {
          "base_uri": "https://localhost:8080/"
        },
        "id": "kCa80VGdj5Wg",
        "outputId": "15a6fa04-5b37-4f3e-f0c0-aac6aee79ad1"
      },
      "execution_count": 55,
      "outputs": [
        {
          "output_type": "stream",
          "name": "stdout",
          "text": [
            "14/14 [==============================] - 0s 2ms/step - loss: 0.2976 - accuracy: 0.8881\n"
          ]
        },
        {
          "output_type": "execute_result",
          "data": {
            "text/plain": [
              "0.888127863407135"
            ]
          },
          "metadata": {},
          "execution_count": 55
        }
      ]
    },
    {
      "cell_type": "code",
      "source": [
        "import matplotlib.pyplot as plt"
      ],
      "metadata": {
        "id": "G7qGaTBLlvmx"
      },
      "execution_count": 48,
      "outputs": []
    },
    {
      "cell_type": "code",
      "source": [
        "plt.plot(hist.history['loss'])\n",
        "plt.plot(hist.history['val_loss'])\n",
        "plt.title('Model loss')\n",
        "plt.ylabel('Loss')\n",
        "plt.xlabel('Epoch')\n",
        "plt.legend(['Train', 'Test'], loc='upper right')\n",
        "plt.show()"
      ],
      "metadata": {
        "colab": {
          "base_uri": "https://localhost:8080/",
          "height": 295
        },
        "id": "X7i8B8yFmACR",
        "outputId": "4c944240-e44b-41b1-f952-56e386d64959"
      },
      "execution_count": 56,
      "outputs": [
        {
          "output_type": "display_data",
          "data": {
            "text/plain": [
              "<Figure size 432x288 with 1 Axes>"
            ],
            "image/png": "[encoded data removed]"
          },
          "metadata": {
            "needs_background": "light"
          }
        }
      ]
    },
    {
      "cell_type": "code",
      "source": [
        "plt.plot(hist.history['accuracy'])\n",
        "plt.plot(hist.history['val_accuracy'])\n",
        "plt.title('Model accuracy')\n",
        "plt.ylabel('Accuracy')\n",
        "plt.xlabel('Epoch')\n",
        "plt.legend(['Train', 'Val'], loc='lower right')\n",
        "plt.show()"
      ],
      "metadata": {
        "colab": {
          "base_uri": "https://localhost:8080/",
          "height": 295
        },
        "id": "bwfAlvGKoFE0",
        "outputId": "e4ae68b6-00cd-4a0c-e5b1-f6acfe65f7af"
      },
      "execution_count": 57,
      "outputs": [
        {
          "output_type": "display_data",
          "data": {
            "text/plain": [
              "<Figure size 432x288 with 1 Axes>"
            ],
            "image/png": "[encoded data removed]"
          },
          "metadata": {
            "needs_background": "light"
          }
        }
      ]
    },
    {
      "cell_type": "code",
      "source": [
        "model_2 = Sequential([\n",
        "Dense(1000, activation='relu', input_shape=(10,)),\n",
        "Dense(1000, activation='relu'),\n",
        "Dense(1000, activation='relu'),\n",
        "Dense(1000, activation='relu'),\n",
        "Dense(1, activation='sigmoid'),\n",
        "])\n",
        "model_2.compile(optimizer='adam',\n",
        "loss='binary_crossentropy',\n",
        "metrics=['accuracy'])\n",
        "hist_2 = model_2.fit(X_train, Y_train,\n",
        "batch_size=32, epochs=100,\n",
        "validation_data=(X_test, Y_test))"
      ],
      "metadata": {
        "colab": {
          "base_uri": "https://localhost:8080/"
        },
        "id": "_zRGT9EUofG9",
        "outputId": "6d4bd838-d7c8-4b64-8757-ab2111ce80ac"
      },
      "execution_count": 58,
      "outputs": [
        {
          "output_type": "stream",
          "name": "stdout",
          "text": [
            "Epoch 1/100\n",
            "32/32 [==============================] - 2s 44ms/step - loss: 0.4919 - accuracy: 0.7632 - val_loss: 0.3844 - val_accuracy: 0.8356\n",
            "Epoch 2/100\n",
            "32/32 [==============================] - 1s 36ms/step - loss: 0.3341 - accuracy: 0.8562 - val_loss: 0.3400 - val_accuracy: 0.8721\n",
            "Epoch 3/100\n",
            "32/32 [==============================] - 1s 37ms/step - loss: 0.2952 - accuracy: 0.8796 - val_loss: 0.3068 - val_accuracy: 0.8744\n",
            "Epoch 4/100\n",
            "32/32 [==============================] - 1s 37ms/step - loss: 0.2741 - accuracy: 0.8836 - val_loss: 0.3332 - val_accuracy: 0.8904\n",
            "Epoch 5/100\n",
            "32/32 [==============================] - 1s 38ms/step - loss: 0.2607 - accuracy: 0.8865 - val_loss: 0.3081 - val_accuracy: 0.8767\n",
            "Epoch 6/100\n",
            "32/32 [==============================] - 1s 38ms/step - loss: 0.2475 - accuracy: 0.8992 - val_loss: 0.3059 - val_accuracy: 0.8995\n",
            "Epoch 7/100\n",
            "32/32 [==============================] - 1s 38ms/step - loss: 0.2510 - accuracy: 0.8924 - val_loss: 0.3604 - val_accuracy: 0.8584\n",
            "Epoch 8/100\n",
            "32/32 [==============================] - 1s 43ms/step - loss: 0.2374 - accuracy: 0.9031 - val_loss: 0.2861 - val_accuracy: 0.8995\n",
            "Epoch 9/100\n",
            "32/32 [==============================] - 1s 38ms/step - loss: 0.2518 - accuracy: 0.8914 - val_loss: 0.2993 - val_accuracy: 0.8927\n",
            "Epoch 10/100\n",
            "32/32 [==============================] - 1s 38ms/step - loss: 0.2199 - accuracy: 0.9051 - val_loss: 0.2830 - val_accuracy: 0.8904\n",
            "Epoch 11/100\n",
            "32/32 [==============================] - 1s 37ms/step - loss: 0.2100 - accuracy: 0.9198 - val_loss: 0.3217 - val_accuracy: 0.8744\n",
            "Epoch 12/100\n",
            "32/32 [==============================] - 1s 38ms/step - loss: 0.2080 - accuracy: 0.9100 - val_loss: 0.2952 - val_accuracy: 0.8858\n",
            "Epoch 13/100\n",
            "32/32 [==============================] - 1s 38ms/step - loss: 0.2525 - accuracy: 0.8973 - val_loss: 0.3935 - val_accuracy: 0.8425\n",
            "Epoch 14/100\n",
            "32/32 [==============================] - 1s 39ms/step - loss: 0.2257 - accuracy: 0.9041 - val_loss: 0.3359 - val_accuracy: 0.8630\n",
            "Epoch 15/100\n",
            "32/32 [==============================] - 1s 39ms/step - loss: 0.2087 - accuracy: 0.9198 - val_loss: 0.3038 - val_accuracy: 0.8767\n",
            "Epoch 16/100\n",
            "32/32 [==============================] - 1s 38ms/step - loss: 0.2090 - accuracy: 0.9041 - val_loss: 0.2950 - val_accuracy: 0.8881\n",
            "Epoch 17/100\n",
            "32/32 [==============================] - 1s 37ms/step - loss: 0.2147 - accuracy: 0.9080 - val_loss: 0.3224 - val_accuracy: 0.8858\n",
            "Epoch 18/100\n",
            "32/32 [==============================] - 1s 38ms/step - loss: 0.2173 - accuracy: 0.9129 - val_loss: 0.3204 - val_accuracy: 0.8858\n",
            "Epoch 19/100\n",
            "32/32 [==============================] - 1s 38ms/step - loss: 0.2083 - accuracy: 0.9188 - val_loss: 0.3083 - val_accuracy: 0.8790\n",
            "Epoch 20/100\n",
            "32/32 [==============================] - 1s 37ms/step - loss: 0.1927 - accuracy: 0.9149 - val_loss: 0.3455 - val_accuracy: 0.8790\n",
            "Epoch 21/100\n",
            "32/32 [==============================] - 1s 38ms/step - loss: 0.2167 - accuracy: 0.9139 - val_loss: 0.3347 - val_accuracy: 0.8813\n",
            "Epoch 22/100\n",
            "32/32 [==============================] - 1s 38ms/step - loss: 0.1917 - accuracy: 0.9217 - val_loss: 0.3098 - val_accuracy: 0.8767\n",
            "Epoch 23/100\n",
            "32/32 [==============================] - 1s 39ms/step - loss: 0.1984 - accuracy: 0.9110 - val_loss: 0.2932 - val_accuracy: 0.8904\n",
            "Epoch 24/100\n",
            "32/32 [==============================] - 1s 38ms/step - loss: 0.1834 - accuracy: 0.9207 - val_loss: 0.3059 - val_accuracy: 0.8973\n",
            "Epoch 25/100\n",
            "32/32 [==============================] - 1s 38ms/step - loss: 0.1796 - accuracy: 0.9295 - val_loss: 0.3944 - val_accuracy: 0.8813\n",
            "Epoch 26/100\n",
            "32/32 [==============================] - 1s 37ms/step - loss: 0.1983 - accuracy: 0.9168 - val_loss: 0.3150 - val_accuracy: 0.8995\n",
            "Epoch 27/100\n",
            "32/32 [==============================] - 1s 37ms/step - loss: 0.2086 - accuracy: 0.9149 - val_loss: 0.3521 - val_accuracy: 0.8699\n",
            "Epoch 28/100\n",
            "32/32 [==============================] - 1s 37ms/step - loss: 0.1857 - accuracy: 0.9168 - val_loss: 0.2975 - val_accuracy: 0.8881\n",
            "Epoch 29/100\n",
            "32/32 [==============================] - 1s 36ms/step - loss: 0.1757 - accuracy: 0.9276 - val_loss: 0.3534 - val_accuracy: 0.8904\n",
            "Epoch 30/100\n",
            "32/32 [==============================] - 1s 37ms/step - loss: 0.1862 - accuracy: 0.9256 - val_loss: 0.2964 - val_accuracy: 0.8858\n",
            "Epoch 31/100\n",
            "32/32 [==============================] - 1s 38ms/step - loss: 0.1799 - accuracy: 0.9315 - val_loss: 0.3188 - val_accuracy: 0.8858\n",
            "Epoch 32/100\n",
            "32/32 [==============================] - 1s 37ms/step - loss: 0.2136 - accuracy: 0.9168 - val_loss: 0.3097 - val_accuracy: 0.8881\n",
            "Epoch 33/100\n",
            "32/32 [==============================] - 1s 37ms/step - loss: 0.2003 - accuracy: 0.9227 - val_loss: 0.3341 - val_accuracy: 0.8813\n",
            "Epoch 34/100\n",
            "32/32 [==============================] - 1s 36ms/step - loss: 0.1828 - accuracy: 0.9237 - val_loss: 0.2877 - val_accuracy: 0.8950\n",
            "Epoch 35/100\n",
            "32/32 [==============================] - 1s 37ms/step - loss: 0.1727 - accuracy: 0.9325 - val_loss: 0.3219 - val_accuracy: 0.8904\n",
            "Epoch 36/100\n",
            "32/32 [==============================] - 1s 37ms/step - loss: 0.1812 - accuracy: 0.9276 - val_loss: 0.3311 - val_accuracy: 0.8950\n",
            "Epoch 37/100\n",
            "32/32 [==============================] - 1s 37ms/step - loss: 0.1844 - accuracy: 0.9286 - val_loss: 0.3914 - val_accuracy: 0.8790\n",
            "Epoch 38/100\n",
            "32/32 [==============================] - 1s 37ms/step - loss: 0.1755 - accuracy: 0.9276 - val_loss: 0.3129 - val_accuracy: 0.8836\n",
            "Epoch 39/100\n",
            "32/32 [==============================] - 1s 38ms/step - loss: 0.1762 - accuracy: 0.9237 - val_loss: 0.3917 - val_accuracy: 0.8721\n",
            "Epoch 40/100\n",
            "32/32 [==============================] - 1s 38ms/step - loss: 0.1725 - accuracy: 0.9374 - val_loss: 0.4239 - val_accuracy: 0.8676\n",
            "Epoch 41/100\n",
            "32/32 [==============================] - 1s 38ms/step - loss: 0.1923 - accuracy: 0.9237 - val_loss: 0.3248 - val_accuracy: 0.8927\n",
            "Epoch 42/100\n",
            "32/32 [==============================] - 1s 41ms/step - loss: 0.1867 - accuracy: 0.9227 - val_loss: 0.3260 - val_accuracy: 0.8836\n",
            "Epoch 43/100\n",
            "32/32 [==============================] - 1s 36ms/step - loss: 0.1691 - accuracy: 0.9315 - val_loss: 0.3340 - val_accuracy: 0.8950\n",
            "Epoch 44/100\n",
            "32/32 [==============================] - 1s 37ms/step - loss: 0.1732 - accuracy: 0.9335 - val_loss: 0.3307 - val_accuracy: 0.8858\n",
            "Epoch 45/100\n",
            "32/32 [==============================] - 1s 37ms/step - loss: 0.1773 - accuracy: 0.9276 - val_loss: 0.3171 - val_accuracy: 0.8858\n",
            "Epoch 46/100\n",
            "32/32 [==============================] - 1s 37ms/step - loss: 0.1944 - accuracy: 0.9217 - val_loss: 0.3428 - val_accuracy: 0.8562\n",
            "Epoch 47/100\n",
            "32/32 [==============================] - 1s 38ms/step - loss: 0.1797 - accuracy: 0.9227 - val_loss: 0.3360 - val_accuracy: 0.8881\n",
            "Epoch 48/100\n",
            "32/32 [==============================] - 1s 38ms/step - loss: 0.1694 - accuracy: 0.9305 - val_loss: 0.3329 - val_accuracy: 0.8744\n",
            "Epoch 49/100\n",
            "32/32 [==============================] - 1s 41ms/step - loss: 0.2083 - accuracy: 0.9149 - val_loss: 0.3164 - val_accuracy: 0.8881\n",
            "Epoch 50/100\n",
            "32/32 [==============================] - 1s 44ms/step - loss: 0.1814 - accuracy: 0.9266 - val_loss: 0.4677 - val_accuracy: 0.8744\n",
            "Epoch 51/100\n",
            "32/32 [==============================] - 1s 36ms/step - loss: 0.1804 - accuracy: 0.9227 - val_loss: 0.3347 - val_accuracy: 0.8790\n",
            "Epoch 52/100\n",
            "32/32 [==============================] - 1s 37ms/step - loss: 0.1513 - accuracy: 0.9354 - val_loss: 0.3663 - val_accuracy: 0.8836\n",
            "Epoch 53/100\n",
            "32/32 [==============================] - 1s 36ms/step - loss: 0.1542 - accuracy: 0.9305 - val_loss: 0.3492 - val_accuracy: 0.8836\n",
            "Epoch 54/100\n",
            "32/32 [==============================] - 1s 37ms/step - loss: 0.1431 - accuracy: 0.9403 - val_loss: 0.3579 - val_accuracy: 0.8721\n",
            "Epoch 55/100\n",
            "32/32 [==============================] - 1s 37ms/step - loss: 0.1643 - accuracy: 0.9266 - val_loss: 0.3538 - val_accuracy: 0.8836\n",
            "Epoch 56/100\n",
            "32/32 [==============================] - 1s 38ms/step - loss: 0.1902 - accuracy: 0.9217 - val_loss: 0.3929 - val_accuracy: 0.8790\n",
            "Epoch 57/100\n",
            "32/32 [==============================] - 1s 39ms/step - loss: 0.1813 - accuracy: 0.9276 - val_loss: 0.3380 - val_accuracy: 0.8676\n",
            "Epoch 58/100\n",
            "32/32 [==============================] - 1s 39ms/step - loss: 0.1770 - accuracy: 0.9256 - val_loss: 0.4130 - val_accuracy: 0.8744\n",
            "Epoch 59/100\n",
            "32/32 [==============================] - 1s 37ms/step - loss: 0.1572 - accuracy: 0.9374 - val_loss: 0.3701 - val_accuracy: 0.8836\n",
            "Epoch 60/100\n",
            "32/32 [==============================] - 1s 38ms/step - loss: 0.1420 - accuracy: 0.9413 - val_loss: 0.3552 - val_accuracy: 0.8836\n",
            "Epoch 61/100\n",
            "32/32 [==============================] - 1s 37ms/step - loss: 0.1429 - accuracy: 0.9384 - val_loss: 0.3589 - val_accuracy: 0.8813\n",
            "Epoch 62/100\n",
            "32/32 [==============================] - 1s 37ms/step - loss: 0.1572 - accuracy: 0.9325 - val_loss: 0.3893 - val_accuracy: 0.8881\n",
            "Epoch 63/100\n",
            "32/32 [==============================] - 1s 39ms/step - loss: 0.1350 - accuracy: 0.9384 - val_loss: 0.4296 - val_accuracy: 0.8790\n",
            "Epoch 64/100\n",
            "32/32 [==============================] - 1s 45ms/step - loss: 0.1404 - accuracy: 0.9413 - val_loss: 0.4671 - val_accuracy: 0.8721\n",
            "Epoch 65/100\n",
            "32/32 [==============================] - 1s 44ms/step - loss: 0.1444 - accuracy: 0.9393 - val_loss: 0.5084 - val_accuracy: 0.8790\n",
            "Epoch 66/100\n",
            "32/32 [==============================] - 1s 41ms/step - loss: 0.1699 - accuracy: 0.9295 - val_loss: 0.4087 - val_accuracy: 0.8790\n",
            "Epoch 67/100\n",
            "32/32 [==============================] - 1s 38ms/step - loss: 0.2101 - accuracy: 0.9061 - val_loss: 0.3514 - val_accuracy: 0.8767\n",
            "Epoch 68/100\n",
            "32/32 [==============================] - 1s 38ms/step - loss: 0.1689 - accuracy: 0.9305 - val_loss: 0.3558 - val_accuracy: 0.8858\n",
            "Epoch 69/100\n",
            "32/32 [==============================] - 1s 37ms/step - loss: 0.1387 - accuracy: 0.9413 - val_loss: 0.4298 - val_accuracy: 0.8813\n",
            "Epoch 70/100\n",
            "32/32 [==============================] - 1s 38ms/step - loss: 0.1475 - accuracy: 0.9354 - val_loss: 0.4265 - val_accuracy: 0.8744\n",
            "Epoch 71/100\n",
            "32/32 [==============================] - 1s 39ms/step - loss: 0.1498 - accuracy: 0.9413 - val_loss: 0.4252 - val_accuracy: 0.8653\n",
            "Epoch 72/100\n",
            "32/32 [==============================] - 1s 39ms/step - loss: 0.1470 - accuracy: 0.9364 - val_loss: 0.3585 - val_accuracy: 0.8836\n",
            "Epoch 73/100\n",
            "32/32 [==============================] - 1s 38ms/step - loss: 0.1428 - accuracy: 0.9413 - val_loss: 0.5517 - val_accuracy: 0.8790\n",
            "Epoch 74/100\n",
            "32/32 [==============================] - 2s 66ms/step - loss: 0.1788 - accuracy: 0.9266 - val_loss: 0.4516 - val_accuracy: 0.8904\n",
            "Epoch 75/100\n",
            "32/32 [==============================] - 1s 40ms/step - loss: 0.1524 - accuracy: 0.9335 - val_loss: 0.3685 - val_accuracy: 0.8721\n",
            "Epoch 76/100\n",
            "32/32 [==============================] - 1s 38ms/step - loss: 0.1428 - accuracy: 0.9384 - val_loss: 0.4579 - val_accuracy: 0.8858\n",
            "Epoch 77/100\n",
            "32/32 [==============================] - 1s 41ms/step - loss: 0.1285 - accuracy: 0.9442 - val_loss: 0.4775 - val_accuracy: 0.8653\n",
            "Epoch 78/100\n",
            "32/32 [==============================] - 1s 45ms/step - loss: 0.1598 - accuracy: 0.9344 - val_loss: 0.3785 - val_accuracy: 0.8744\n",
            "Epoch 79/100\n",
            "32/32 [==============================] - 1s 39ms/step - loss: 0.1703 - accuracy: 0.9217 - val_loss: 0.3477 - val_accuracy: 0.8858\n",
            "Epoch 80/100\n",
            "32/32 [==============================] - 1s 39ms/step - loss: 0.1267 - accuracy: 0.9511 - val_loss: 0.4237 - val_accuracy: 0.8858\n",
            "Epoch 81/100\n",
            "32/32 [==============================] - 1s 39ms/step - loss: 0.1425 - accuracy: 0.9384 - val_loss: 0.4521 - val_accuracy: 0.8813\n",
            "Epoch 82/100\n",
            "32/32 [==============================] - 1s 38ms/step - loss: 0.1450 - accuracy: 0.9384 - val_loss: 0.4361 - val_accuracy: 0.8767\n",
            "Epoch 83/100\n",
            "32/32 [==============================] - 1s 44ms/step - loss: 0.1395 - accuracy: 0.9384 - val_loss: 0.4415 - val_accuracy: 0.8721\n",
            "Epoch 84/100\n",
            "32/32 [==============================] - 1s 38ms/step - loss: 0.1388 - accuracy: 0.9423 - val_loss: 0.3871 - val_accuracy: 0.8836\n",
            "Epoch 85/100\n",
            "32/32 [==============================] - 1s 39ms/step - loss: 0.1277 - accuracy: 0.9432 - val_loss: 0.4266 - val_accuracy: 0.8721\n",
            "Epoch 86/100\n",
            "32/32 [==============================] - 1s 38ms/step - loss: 0.1552 - accuracy: 0.9374 - val_loss: 0.3850 - val_accuracy: 0.8790\n",
            "Epoch 87/100\n",
            "32/32 [==============================] - 1s 38ms/step - loss: 0.1598 - accuracy: 0.9315 - val_loss: 0.3749 - val_accuracy: 0.8699\n",
            "Epoch 88/100\n",
            "32/32 [==============================] - 1s 39ms/step - loss: 0.1627 - accuracy: 0.9344 - val_loss: 0.3760 - val_accuracy: 0.8881\n",
            "Epoch 89/100\n",
            "32/32 [==============================] - 1s 37ms/step - loss: 0.1351 - accuracy: 0.9403 - val_loss: 0.3774 - val_accuracy: 0.8790\n",
            "Epoch 90/100\n",
            "32/32 [==============================] - 1s 37ms/step - loss: 0.1208 - accuracy: 0.9481 - val_loss: 0.4119 - val_accuracy: 0.8836\n",
            "Epoch 91/100\n",
            "32/32 [==============================] - 1s 38ms/step - loss: 0.1127 - accuracy: 0.9511 - val_loss: 0.3957 - val_accuracy: 0.8721\n",
            "Epoch 92/100\n",
            "32/32 [==============================] - 1s 38ms/step - loss: 0.1273 - accuracy: 0.9472 - val_loss: 0.4144 - val_accuracy: 0.8813\n",
            "Epoch 93/100\n",
            "32/32 [==============================] - 1s 37ms/step - loss: 0.1212 - accuracy: 0.9530 - val_loss: 0.4917 - val_accuracy: 0.8721\n",
            "Epoch 94/100\n",
            "32/32 [==============================] - 1s 38ms/step - loss: 0.1183 - accuracy: 0.9550 - val_loss: 0.4104 - val_accuracy: 0.8813\n",
            "Epoch 95/100\n",
            "32/32 [==============================] - 1s 38ms/step - loss: 0.1145 - accuracy: 0.9521 - val_loss: 0.4933 - val_accuracy: 0.8904\n",
            "Epoch 96/100\n",
            "32/32 [==============================] - 1s 39ms/step - loss: 0.1175 - accuracy: 0.9521 - val_loss: 0.5645 - val_accuracy: 0.8767\n",
            "Epoch 97/100\n",
            "32/32 [==============================] - 1s 39ms/step - loss: 0.1321 - accuracy: 0.9432 - val_loss: 0.4770 - val_accuracy: 0.8721\n",
            "Epoch 98/100\n",
            "32/32 [==============================] - 1s 38ms/step - loss: 0.1288 - accuracy: 0.9511 - val_loss: 0.4417 - val_accuracy: 0.8881\n",
            "Epoch 99/100\n",
            "32/32 [==============================] - 1s 40ms/step - loss: 0.1003 - accuracy: 0.9618 - val_loss: 0.4481 - val_accuracy: 0.8744\n",
            "Epoch 100/100\n",
            "32/32 [==============================] - 1s 41ms/step - loss: 0.0952 - accuracy: 0.9599 - val_loss: 0.5507 - val_accuracy: 0.8767\n"
          ]
        }
      ]
    },
    {
      "cell_type": "code",
      "source": [
        "plt.plot(hist_2.history['loss'])\n",
        "plt.plot(hist_2.history['val_loss'])\n",
        "plt.title('Model loss')\n",
        "plt.ylabel('Loss')\n",
        "plt.xlabel('Epoch')\n",
        "plt.legend(['Train', 'Val'], loc='upper right')\n",
        "plt.show()"
      ],
      "metadata": {
        "colab": {
          "base_uri": "https://localhost:8080/",
          "height": 295
        },
        "id": "J0LrkW7zpP_A",
        "outputId": "a1b7eae3-7bf2-42c6-ea7d-0dc0574c643e"
      },
      "execution_count": 59,
      "outputs": [
        {
          "output_type": "display_data",
          "data": {
            "text/plain": [
              "<Figure size 432x288 with 1 Axes>"
            ],
            "image/png": "[encoded data removed]"
          },
          "metadata": {
            "needs_background": "light"
          }
        }
      ]
    }
  ]
}